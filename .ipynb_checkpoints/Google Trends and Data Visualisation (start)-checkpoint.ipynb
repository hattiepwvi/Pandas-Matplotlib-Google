{
 "cells": [
  {
   "cell_type": "markdown",
   "metadata": {},
   "source": [
    "# Introduction"
   ]
  },
  {
   "cell_type": "markdown",
   "metadata": {},
   "source": [
    "Google Trends gives us an estimate of search volume. Let's explore if search popularity relates to other kinds of data. Perhaps there are patterns in Google's search volume and the price of Bitcoin or a hot stock like Tesla. Perhaps search volume for the term \"Unemployment Benefits\" can tell us something about the actual unemployment rate? \n",
    "\n",
    "Data Sources: <br>\n",
    "<ul>\n",
    "<li> <a href=\"https://fred.stlouisfed.org/series/UNRATE/\">Unemployment Rate from FRED</a></li>\n",
    "<li> <a href=\"https://trends.google.com/trends/explore\">Google Trends</a> </li>  \n",
    "<li> <a href=\"https://finance.yahoo.com/quote/TSLA/history?p=TSLA\">Yahoo Finance for Tesla Stock Price</a> </li>    \n",
    "<li> <a href=\"https://finance.yahoo.com/quote/BTC-USD/history?p=BTC-USD\">Yahoo Finance for Bitcoin Stock Price</a> </li>\n",
    "</ul>"
   ]
  },
  {
   "cell_type": "markdown",
   "metadata": {},
   "source": [
    "# Import Statements"
   ]
  },
  {
   "cell_type": "code",
   "execution_count": 52,
   "metadata": {},
   "outputs": [],
   "source": [
    "import pandas as pd\n",
    "import matplotlib.pyplot as plt\n",
    "import matplotlib.dates as mdates"
   ]
  },
  {
   "cell_type": "markdown",
   "metadata": {},
   "source": [
    "# Read the Data\n",
    "\n",
    "Download and add the .csv files to the same folder as your notebook."
   ]
  },
  {
   "cell_type": "code",
   "execution_count": 2,
   "metadata": {},
   "outputs": [],
   "source": [
    "df_tesla = pd.read_csv('TESLA Search Trend vs Price.csv')\n",
    "\n",
    "df_btc_search = pd.read_csv('Bitcoin Search Trend.csv')\n",
    "df_btc_price = pd.read_csv('Daily Bitcoin Price.csv')\n",
    "\n",
    "df_unemployment = pd.read_csv('UE Benefits Search vs UE Rate 2004-19.csv')"
   ]
  },
  {
   "cell_type": "markdown",
   "metadata": {},
   "source": [
    "# Data Exploration"
   ]
  },
  {
   "cell_type": "markdown",
   "metadata": {},
   "source": [
    "### Tesla"
   ]
  },
  {
   "cell_type": "markdown",
   "metadata": {},
   "source": [
    "**Challenge**: <br>\n",
    "<ul>\n",
    "<li>What are the shapes of the dataframes? </li>\n",
    "<li>How many rows and columns? </li>\n",
    "<li>What are the column names? </li>\n",
    "<li>Complete the f-string to show the largest/smallest number in the search data column</li> \n",
    "<li>Try the <code>.describe()</code> function to see some useful descriptive statistics</li>\n",
    "<li>What is the periodicity of the time series data (daily, weekly, monthly)? </li>\n",
    "<li>What does a value of 100 in the Google Trend search popularity actually mean?</li>\n",
    "</ul>"
   ]
  },
  {
   "cell_type": "code",
   "execution_count": 3,
   "metadata": {},
   "outputs": [
    {
     "data": {
      "text/plain": [
       "Index(['MONTH', 'UE_BENEFITS_WEB_SEARCH', 'UNRATE'], dtype='object')"
      ]
     },
     "execution_count": 3,
     "metadata": {},
     "output_type": "execute_result"
    }
   ],
   "source": [
    "df_tesla.shape\n",
    "df_btc_search.shape\n",
    "df_btc_price.shape\n",
    "df_unemployment.shape\n",
    "\n",
    "df_tesla.columns\n",
    "df_btc_search.columns\n",
    "df_btc_price.columns\n",
    "df_unemployment.columns"
   ]
  },
  {
   "cell_type": "code",
   "execution_count": 4,
   "metadata": {},
   "outputs": [
    {
     "name": "stdout",
     "output_type": "stream",
     "text": [
      "Largest value for Tesla in Web Search:  31\n",
      "Smallest value for Tesla in Web Search:  2\n"
     ]
    }
   ],
   "source": [
    "print(f'Largest value for Tesla in Web Search: ', df_tesla['TSLA_WEB_SEARCH'].max())\n",
    "print(f'Smallest value for Tesla in Web Search: ', df_tesla['TSLA_WEB_SEARCH'].min())"
   ]
  },
  {
   "cell_type": "code",
   "execution_count": 5,
   "metadata": {},
   "outputs": [
    {
     "data": {
      "text/html": [
       "<div>\n",
       "<style scoped>\n",
       "    .dataframe tbody tr th:only-of-type {\n",
       "        vertical-align: middle;\n",
       "    }\n",
       "\n",
       "    .dataframe tbody tr th {\n",
       "        vertical-align: top;\n",
       "    }\n",
       "\n",
       "    .dataframe thead th {\n",
       "        text-align: right;\n",
       "    }\n",
       "</style>\n",
       "<table border=\"1\" class=\"dataframe\">\n",
       "  <thead>\n",
       "    <tr style=\"text-align: right;\">\n",
       "      <th></th>\n",
       "      <th>TSLA_WEB_SEARCH</th>\n",
       "      <th>TSLA_USD_CLOSE</th>\n",
       "    </tr>\n",
       "  </thead>\n",
       "  <tbody>\n",
       "    <tr>\n",
       "      <th>count</th>\n",
       "      <td>124.000000</td>\n",
       "      <td>124.000000</td>\n",
       "    </tr>\n",
       "    <tr>\n",
       "      <th>mean</th>\n",
       "      <td>8.725806</td>\n",
       "      <td>50.962145</td>\n",
       "    </tr>\n",
       "    <tr>\n",
       "      <th>std</th>\n",
       "      <td>5.870332</td>\n",
       "      <td>65.908389</td>\n",
       "    </tr>\n",
       "    <tr>\n",
       "      <th>min</th>\n",
       "      <td>2.000000</td>\n",
       "      <td>3.896000</td>\n",
       "    </tr>\n",
       "    <tr>\n",
       "      <th>25%</th>\n",
       "      <td>3.750000</td>\n",
       "      <td>7.352500</td>\n",
       "    </tr>\n",
       "    <tr>\n",
       "      <th>50%</th>\n",
       "      <td>8.000000</td>\n",
       "      <td>44.653000</td>\n",
       "    </tr>\n",
       "    <tr>\n",
       "      <th>75%</th>\n",
       "      <td>12.000000</td>\n",
       "      <td>58.991999</td>\n",
       "    </tr>\n",
       "    <tr>\n",
       "      <th>max</th>\n",
       "      <td>31.000000</td>\n",
       "      <td>498.320007</td>\n",
       "    </tr>\n",
       "  </tbody>\n",
       "</table>\n",
       "</div>"
      ],
      "text/plain": [
       "       TSLA_WEB_SEARCH  TSLA_USD_CLOSE\n",
       "count       124.000000      124.000000\n",
       "mean          8.725806       50.962145\n",
       "std           5.870332       65.908389\n",
       "min           2.000000        3.896000\n",
       "25%           3.750000        7.352500\n",
       "50%           8.000000       44.653000\n",
       "75%          12.000000       58.991999\n",
       "max          31.000000      498.320007"
      ]
     },
     "execution_count": 5,
     "metadata": {},
     "output_type": "execute_result"
    }
   ],
   "source": [
    "df_tesla.describe()"
   ]
  },
  {
   "cell_type": "markdown",
   "metadata": {},
   "source": [
    "### Unemployment Data"
   ]
  },
  {
   "cell_type": "code",
   "execution_count": 6,
   "metadata": {},
   "outputs": [
    {
     "name": "stdout",
     "output_type": "stream",
     "text": [
      "(181, 3)\n"
     ]
    },
    {
     "data": {
      "text/html": [
       "<div>\n",
       "<style scoped>\n",
       "    .dataframe tbody tr th:only-of-type {\n",
       "        vertical-align: middle;\n",
       "    }\n",
       "\n",
       "    .dataframe tbody tr th {\n",
       "        vertical-align: top;\n",
       "    }\n",
       "\n",
       "    .dataframe thead th {\n",
       "        text-align: right;\n",
       "    }\n",
       "</style>\n",
       "<table border=\"1\" class=\"dataframe\">\n",
       "  <thead>\n",
       "    <tr style=\"text-align: right;\">\n",
       "      <th></th>\n",
       "      <th>MONTH</th>\n",
       "      <th>UE_BENEFITS_WEB_SEARCH</th>\n",
       "      <th>UNRATE</th>\n",
       "    </tr>\n",
       "  </thead>\n",
       "  <tbody>\n",
       "    <tr>\n",
       "      <th>0</th>\n",
       "      <td>2004-01</td>\n",
       "      <td>34</td>\n",
       "      <td>5.7</td>\n",
       "    </tr>\n",
       "    <tr>\n",
       "      <th>1</th>\n",
       "      <td>2004-02</td>\n",
       "      <td>33</td>\n",
       "      <td>5.6</td>\n",
       "    </tr>\n",
       "    <tr>\n",
       "      <th>2</th>\n",
       "      <td>2004-03</td>\n",
       "      <td>25</td>\n",
       "      <td>5.8</td>\n",
       "    </tr>\n",
       "    <tr>\n",
       "      <th>3</th>\n",
       "      <td>2004-04</td>\n",
       "      <td>29</td>\n",
       "      <td>5.6</td>\n",
       "    </tr>\n",
       "    <tr>\n",
       "      <th>4</th>\n",
       "      <td>2004-05</td>\n",
       "      <td>23</td>\n",
       "      <td>5.6</td>\n",
       "    </tr>\n",
       "  </tbody>\n",
       "</table>\n",
       "</div>"
      ],
      "text/plain": [
       "     MONTH  UE_BENEFITS_WEB_SEARCH  UNRATE\n",
       "0  2004-01                      34     5.7\n",
       "1  2004-02                      33     5.6\n",
       "2  2004-03                      25     5.8\n",
       "3  2004-04                      29     5.6\n",
       "4  2004-05                      23     5.6"
      ]
     },
     "execution_count": 6,
     "metadata": {},
     "output_type": "execute_result"
    }
   ],
   "source": [
    "print(df_unemployment.shape)\n",
    "df_unemployment.head()"
   ]
  },
  {
   "cell_type": "code",
   "execution_count": 7,
   "metadata": {},
   "outputs": [
    {
     "name": "stdout",
     "output_type": "stream",
     "text": [
      "Largest value for \"Unemployemnt Benefits\" in Web Search:  100\n"
     ]
    }
   ],
   "source": [
    "# print('Largest value for \"Unemployemnt Benefits\" '\n",
    "#       f'in Web Search: ', df_unemployment['UE_BENEFITS_WEB_SEARCH'].max())\n",
    "\n",
    "print('Largest value for \"Unemployemnt Benefits\" '\n",
    "      f'in Web Search: ', df_unemployment.UE_BENEFITS_WEB_SEARCH.max())"
   ]
  },
  {
   "cell_type": "markdown",
   "metadata": {},
   "source": [
    "### Bitcoin"
   ]
  },
  {
   "cell_type": "code",
   "execution_count": 8,
   "metadata": {},
   "outputs": [
    {
     "name": "stdout",
     "output_type": "stream",
     "text": [
      "(2204, 3)\n"
     ]
    },
    {
     "data": {
      "text/html": [
       "<div>\n",
       "<style scoped>\n",
       "    .dataframe tbody tr th:only-of-type {\n",
       "        vertical-align: middle;\n",
       "    }\n",
       "\n",
       "    .dataframe tbody tr th {\n",
       "        vertical-align: top;\n",
       "    }\n",
       "\n",
       "    .dataframe thead th {\n",
       "        text-align: right;\n",
       "    }\n",
       "</style>\n",
       "<table border=\"1\" class=\"dataframe\">\n",
       "  <thead>\n",
       "    <tr style=\"text-align: right;\">\n",
       "      <th></th>\n",
       "      <th>DATE</th>\n",
       "      <th>CLOSE</th>\n",
       "      <th>VOLUME</th>\n",
       "    </tr>\n",
       "  </thead>\n",
       "  <tbody>\n",
       "    <tr>\n",
       "      <th>0</th>\n",
       "      <td>2014-09-17</td>\n",
       "      <td>457.334015</td>\n",
       "      <td>21056800.0</td>\n",
       "    </tr>\n",
       "    <tr>\n",
       "      <th>1</th>\n",
       "      <td>2014-09-18</td>\n",
       "      <td>424.440002</td>\n",
       "      <td>34483200.0</td>\n",
       "    </tr>\n",
       "    <tr>\n",
       "      <th>2</th>\n",
       "      <td>2014-09-19</td>\n",
       "      <td>394.795990</td>\n",
       "      <td>37919700.0</td>\n",
       "    </tr>\n",
       "    <tr>\n",
       "      <th>3</th>\n",
       "      <td>2014-09-20</td>\n",
       "      <td>408.903992</td>\n",
       "      <td>36863600.0</td>\n",
       "    </tr>\n",
       "    <tr>\n",
       "      <th>4</th>\n",
       "      <td>2014-09-21</td>\n",
       "      <td>398.821014</td>\n",
       "      <td>26580100.0</td>\n",
       "    </tr>\n",
       "  </tbody>\n",
       "</table>\n",
       "</div>"
      ],
      "text/plain": [
       "         DATE       CLOSE      VOLUME\n",
       "0  2014-09-17  457.334015  21056800.0\n",
       "1  2014-09-18  424.440002  34483200.0\n",
       "2  2014-09-19  394.795990  37919700.0\n",
       "3  2014-09-20  408.903992  36863600.0\n",
       "4  2014-09-21  398.821014  26580100.0"
      ]
     },
     "execution_count": 8,
     "metadata": {},
     "output_type": "execute_result"
    }
   ],
   "source": [
    "print(df_btc_price.shape)\n",
    "df_btc_price.head()"
   ]
  },
  {
   "cell_type": "code",
   "execution_count": 9,
   "metadata": {},
   "outputs": [
    {
     "name": "stdout",
     "output_type": "stream",
     "text": [
      "(73, 2)\n"
     ]
    },
    {
     "data": {
      "text/html": [
       "<div>\n",
       "<style scoped>\n",
       "    .dataframe tbody tr th:only-of-type {\n",
       "        vertical-align: middle;\n",
       "    }\n",
       "\n",
       "    .dataframe tbody tr th {\n",
       "        vertical-align: top;\n",
       "    }\n",
       "\n",
       "    .dataframe thead th {\n",
       "        text-align: right;\n",
       "    }\n",
       "</style>\n",
       "<table border=\"1\" class=\"dataframe\">\n",
       "  <thead>\n",
       "    <tr style=\"text-align: right;\">\n",
       "      <th></th>\n",
       "      <th>MONTH</th>\n",
       "      <th>BTC_NEWS_SEARCH</th>\n",
       "    </tr>\n",
       "  </thead>\n",
       "  <tbody>\n",
       "    <tr>\n",
       "      <th>0</th>\n",
       "      <td>2014-09</td>\n",
       "      <td>5</td>\n",
       "    </tr>\n",
       "    <tr>\n",
       "      <th>1</th>\n",
       "      <td>2014-10</td>\n",
       "      <td>4</td>\n",
       "    </tr>\n",
       "    <tr>\n",
       "      <th>2</th>\n",
       "      <td>2014-11</td>\n",
       "      <td>4</td>\n",
       "    </tr>\n",
       "    <tr>\n",
       "      <th>3</th>\n",
       "      <td>2014-12</td>\n",
       "      <td>4</td>\n",
       "    </tr>\n",
       "    <tr>\n",
       "      <th>4</th>\n",
       "      <td>2015-01</td>\n",
       "      <td>5</td>\n",
       "    </tr>\n",
       "  </tbody>\n",
       "</table>\n",
       "</div>"
      ],
      "text/plain": [
       "     MONTH  BTC_NEWS_SEARCH\n",
       "0  2014-09                5\n",
       "1  2014-10                4\n",
       "2  2014-11                4\n",
       "3  2014-12                4\n",
       "4  2015-01                5"
      ]
     },
     "execution_count": 9,
     "metadata": {},
     "output_type": "execute_result"
    }
   ],
   "source": [
    "print(df_btc_search.shape)\n",
    "df_btc_search.head()"
   ]
  },
  {
   "cell_type": "code",
   "execution_count": 10,
   "metadata": {},
   "outputs": [
    {
     "name": "stdout",
     "output_type": "stream",
     "text": [
      "largest BTC News Search:  100\n"
     ]
    }
   ],
   "source": [
    "print(f'largest BTC News Search: ', df_btc_search.BTC_NEWS_SEARCH.max())"
   ]
  },
  {
   "cell_type": "markdown",
   "metadata": {},
   "source": [
    "# Data Cleaning"
   ]
  },
  {
   "cell_type": "markdown",
   "metadata": {},
   "source": [
    "### Check for Missing Values"
   ]
  },
  {
   "cell_type": "markdown",
   "metadata": {},
   "source": [
    "**Challenge**: Are there any missing values in any of the dataframes? If so, which row/rows have missing values? How many missing values are there?"
   ]
  },
  {
   "cell_type": "code",
   "execution_count": 11,
   "metadata": {},
   "outputs": [
    {
     "name": "stdout",
     "output_type": "stream",
     "text": [
      "Missing values for Tesla?:  False\n",
      "Missing values for U/E?:  False\n",
      "Missing values for BTC Search?:  False\n"
     ]
    }
   ],
   "source": [
    "# print(f'Missing values for Tesla?: ', df_tesla.fillna(0, inplace=True))\n",
    "print(f'Missing values for Tesla?: ', df_tesla.isna().values.any())\n",
    "print(f'Missing values for U/E?: ', df_unemployment.isna().values.any())\n",
    "print(f'Missing values for BTC Search?: ', df_btc_search.isna().values.any())"
   ]
  },
  {
   "cell_type": "code",
   "execution_count": 12,
   "metadata": {},
   "outputs": [
    {
     "name": "stdout",
     "output_type": "stream",
     "text": [
      "Missing values for BTC price?:  True\n"
     ]
    }
   ],
   "source": [
    "print(f'Missing values for BTC price?: ', df_btc_price.isna().values.any())"
   ]
  },
  {
   "cell_type": "code",
   "execution_count": 13,
   "metadata": {},
   "outputs": [
    {
     "name": "stdout",
     "output_type": "stream",
     "text": [
      "Number of missing values:  2\n"
     ]
    },
    {
     "data": {
      "text/html": [
       "<div>\n",
       "<style scoped>\n",
       "    .dataframe tbody tr th:only-of-type {\n",
       "        vertical-align: middle;\n",
       "    }\n",
       "\n",
       "    .dataframe tbody tr th {\n",
       "        vertical-align: top;\n",
       "    }\n",
       "\n",
       "    .dataframe thead th {\n",
       "        text-align: right;\n",
       "    }\n",
       "</style>\n",
       "<table border=\"1\" class=\"dataframe\">\n",
       "  <thead>\n",
       "    <tr style=\"text-align: right;\">\n",
       "      <th></th>\n",
       "      <th>DATE</th>\n",
       "      <th>CLOSE</th>\n",
       "      <th>VOLUME</th>\n",
       "    </tr>\n",
       "  </thead>\n",
       "  <tbody>\n",
       "    <tr>\n",
       "      <th>2148</th>\n",
       "      <td>2020-08-04</td>\n",
       "      <td>NaN</td>\n",
       "      <td>NaN</td>\n",
       "    </tr>\n",
       "  </tbody>\n",
       "</table>\n",
       "</div>"
      ],
      "text/plain": [
       "            DATE  CLOSE  VOLUME\n",
       "2148  2020-08-04    NaN     NaN"
      ]
     },
     "execution_count": 13,
     "metadata": {},
     "output_type": "execute_result"
    }
   ],
   "source": [
    "print(f'Number of missing values: ', df_btc_price.isna().values.sum())\n",
    "df_btc_price[df_btc_price.CLOSE.isna()]"
   ]
  },
  {
   "cell_type": "markdown",
   "metadata": {},
   "source": [
    "**Challenge**: Remove any missing values that you found. "
   ]
  },
  {
   "cell_type": "code",
   "execution_count": 14,
   "metadata": {},
   "outputs": [],
   "source": [
    "df_btc_price.fillna(0, inplace=True)\n",
    "# df_btc_price = df_btc_price.dropna(inplace=True)"
   ]
  },
  {
   "cell_type": "markdown",
   "metadata": {},
   "source": [
    "### Convert Strings to DateTime Objects"
   ]
  },
  {
   "cell_type": "markdown",
   "metadata": {},
   "source": [
    "**Challenge**: Check the data type of the entries in the DataFrame MONTH or DATE columns. Convert any strings in to Datetime objects. Do this for all 4 DataFrames. Double check if your type conversion was successful."
   ]
  },
  {
   "cell_type": "code",
   "execution_count": 15,
   "metadata": {},
   "outputs": [],
   "source": [
    "df_tesla.MONTH = pd.to_datetime(df_tesla.MONTH)\n",
    "df_btc_search.MONTH = pd.to_datetime(df_btc_search.MONTH)\n",
    "df_unemployment.MONTH = pd.to_datetime(df_unemployment.MONTH)\n",
    "df_btc_price.DATE = pd.to_datetime(df_btc_price.DATE)\n",
    "\n"
   ]
  },
  {
   "cell_type": "code",
   "execution_count": 56,
   "metadata": {},
   "outputs": [
    {
     "data": {
      "text/plain": [
       "pandas._libs.tslibs.timestamps.Timestamp"
      ]
     },
     "execution_count": 56,
     "metadata": {},
     "output_type": "execute_result"
    }
   ],
   "source": [
    "type(df_tesla.MONTH[0])"
   ]
  },
  {
   "cell_type": "code",
   "execution_count": null,
   "metadata": {},
   "outputs": [],
   "source": []
  },
  {
   "cell_type": "markdown",
   "metadata": {},
   "source": [
    "### Converting from Daily to Monthly Data\n",
    "\n",
    "[Pandas .resample() documentation](https://pandas.pydata.org/pandas-docs/stable/reference/api/pandas.DataFrame.resample.html) <br>"
   ]
  },
  {
   "cell_type": "code",
   "execution_count": 20,
   "metadata": {},
   "outputs": [],
   "source": [
    "df_btc_monthly = df_btc_price.resample('M', on='DATE').last()"
   ]
  },
  {
   "cell_type": "code",
   "execution_count": 21,
   "metadata": {},
   "outputs": [
    {
     "name": "stdout",
     "output_type": "stream",
     "text": [
      "(73, 3)\n"
     ]
    },
    {
     "data": {
      "text/html": [
       "<div>\n",
       "<style scoped>\n",
       "    .dataframe tbody tr th:only-of-type {\n",
       "        vertical-align: middle;\n",
       "    }\n",
       "\n",
       "    .dataframe tbody tr th {\n",
       "        vertical-align: top;\n",
       "    }\n",
       "\n",
       "    .dataframe thead th {\n",
       "        text-align: right;\n",
       "    }\n",
       "</style>\n",
       "<table border=\"1\" class=\"dataframe\">\n",
       "  <thead>\n",
       "    <tr style=\"text-align: right;\">\n",
       "      <th></th>\n",
       "      <th>DATE</th>\n",
       "      <th>CLOSE</th>\n",
       "      <th>VOLUME</th>\n",
       "    </tr>\n",
       "    <tr>\n",
       "      <th>DATE</th>\n",
       "      <th></th>\n",
       "      <th></th>\n",
       "      <th></th>\n",
       "    </tr>\n",
       "  </thead>\n",
       "  <tbody>\n",
       "    <tr>\n",
       "      <th>2014-09-30</th>\n",
       "      <td>2014-09-30</td>\n",
       "      <td>386.944000</td>\n",
       "      <td>34707300.0</td>\n",
       "    </tr>\n",
       "    <tr>\n",
       "      <th>2014-10-31</th>\n",
       "      <td>2014-10-31</td>\n",
       "      <td>338.321014</td>\n",
       "      <td>12545400.0</td>\n",
       "    </tr>\n",
       "    <tr>\n",
       "      <th>2014-11-30</th>\n",
       "      <td>2014-11-30</td>\n",
       "      <td>378.046997</td>\n",
       "      <td>9194440.0</td>\n",
       "    </tr>\n",
       "    <tr>\n",
       "      <th>2014-12-31</th>\n",
       "      <td>2014-12-31</td>\n",
       "      <td>320.192993</td>\n",
       "      <td>13942900.0</td>\n",
       "    </tr>\n",
       "    <tr>\n",
       "      <th>2015-01-31</th>\n",
       "      <td>2015-01-31</td>\n",
       "      <td>217.464005</td>\n",
       "      <td>23348200.0</td>\n",
       "    </tr>\n",
       "  </tbody>\n",
       "</table>\n",
       "</div>"
      ],
      "text/plain": [
       "                 DATE       CLOSE      VOLUME\n",
       "DATE                                         \n",
       "2014-09-30 2014-09-30  386.944000  34707300.0\n",
       "2014-10-31 2014-10-31  338.321014  12545400.0\n",
       "2014-11-30 2014-11-30  378.046997   9194440.0\n",
       "2014-12-31 2014-12-31  320.192993  13942900.0\n",
       "2015-01-31 2015-01-31  217.464005  23348200.0"
      ]
     },
     "execution_count": 21,
     "metadata": {},
     "output_type": "execute_result"
    }
   ],
   "source": [
    "print(df_btc_monthly.shape)\n",
    "df_btc_monthly.head()"
   ]
  },
  {
   "cell_type": "markdown",
   "metadata": {},
   "source": [
    "# Data Visualisation"
   ]
  },
  {
   "cell_type": "markdown",
   "metadata": {},
   "source": [
    "### Notebook Formatting & Style Helpers"
   ]
  },
  {
   "cell_type": "code",
   "execution_count": 58,
   "metadata": {},
   "outputs": [],
   "source": [
    "# Create locators for ticks on the time axis\n",
    "years = mdates.YearLocator()\n",
    "months = mdates.MonthLocator()\n",
    "years_fmt = mdates.DateFormatter('%Y')"
   ]
  },
  {
   "cell_type": "code",
   "execution_count": 59,
   "metadata": {},
   "outputs": [],
   "source": [
    "# Register date converters to avoid warning messages\n",
    "from pandas.plotting import register_matplotlib_converters\n",
    "register_matplotlib_converters()"
   ]
  },
  {
   "cell_type": "markdown",
   "metadata": {},
   "source": [
    "### Tesla Stock Price v.s. Search Volume"
   ]
  },
  {
   "cell_type": "markdown",
   "metadata": {},
   "source": [
    "**Challenge:** Plot the Tesla stock price against the Tesla search volume using a line chart and two different axes. Label one axis 'TSLA Stock Price' and the other 'Search Trend'. "
   ]
  },
  {
   "cell_type": "code",
   "execution_count": null,
   "metadata": {},
   "outputs": [],
   "source": []
  },
  {
   "cell_type": "markdown",
   "metadata": {},
   "source": [
    "**Challenge**: Add colours to style the chart. This will help differentiate the two lines and the axis labels. Try using one of the blue [colour names](https://matplotlib.org/3.1.1/gallery/color/named_colors.html) for the search volume and a HEX code for a red colour for the stock price. \n",
    "<br>\n",
    "<br>\n",
    "Hint: you can colour both the [axis labels](https://matplotlib.org/3.3.2/api/text_api.html#matplotlib.text.Text) and the [lines](https://matplotlib.org/3.2.1/api/_as_gen/matplotlib.lines.Line2D.html#matplotlib.lines.Line2D) on the chart using keyword arguments (kwargs).  "
   ]
  },
  {
   "cell_type": "code",
   "execution_count": 57,
   "metadata": {},
   "outputs": [
    {
     "data": {
      "text/plain": [
       "[<matplotlib.lines.Line2D at 0x7febe0efca90>]"
      ]
     },
     "execution_count": 57,
     "metadata": {},
     "output_type": "execute_result"
    },
    {
     "data": {
      "image/png": "[encoded data removed]",
      "text/plain": [
       "<Figure size 432x288 with 2 Axes>"
      ]
     },
     "metadata": {
      "needs_background": "light"
     },
     "output_type": "display_data"
    }
   ],
   "source": [
    "ax1 = plt.gca()\n",
    "ax2 = ax1.twinx()\n",
    "\n",
    "ax1.set_ylabel('TSLA Stock Price', color='#E6232E') # can use a HEX code\n",
    "ax2.set_ylabel('Search Trend', color='skyblue') # or a named colour\n",
    "\n",
    "ax1.plot(df_tesla.MONTH, df_tesla.TSLA_USD_CLOSE, color='#E6232E')\n",
    "ax2.plot(df_tesla.MONTH, df_tesla.TSLA_WEB_SEARCH, color='skyblue')"
   ]
  },
  {
   "cell_type": "markdown",
   "metadata": {},
   "source": [
    "**Challenge**: Make the chart larger and easier to read. \n",
    "1. Increase the figure size (e.g., to 14 by 8). \n",
    "2. Increase the font sizes for the labels and the ticks on the x-axis to 14. \n",
    "3. Rotate the text on the x-axis by 45 degrees. \n",
    "4. Make the lines on the chart thicker. \n",
    "5. Add a title that reads 'Tesla Web Search vs Price'\n",
    "6. Keep the chart looking sharp by changing the dots-per-inch or [DPI value](https://matplotlib.org/3.1.1/api/_as_gen/matplotlib.pyplot.figure.html). \n",
    "7. Set minimum and maximum values for the y and x axis. Hint: check out methods like [set_xlim()](https://matplotlib.org/3.1.1/api/_as_gen/matplotlib.axes.Axes.set_xlim.html). \n",
    "8. Finally use [plt.show()](https://matplotlib.org/3.2.1/api/_as_gen/matplotlib.pyplot.show.html) to display the chart below the cell instead of relying on the automatic notebook output."
   ]
  },
  {
   "cell_type": "code",
   "execution_count": 60,
   "metadata": {},
   "outputs": [
    {
     "data": {
      "image/png": "[encoded data removed]",
      "text/plain": [
       "<Figure size 1680x960 with 2 Axes>"
      ]
     },
     "metadata": {
      "needs_background": "light"
     },
     "output_type": "display_data"
    }
   ],
   "source": [
    "plt.figure(figsize=(14, 8), dpi=120)\n",
    "plt.title('Tesla Web Search vs Price', fontsize=18)\n",
    "\n",
    "plt.xticks(fontsize=14, rotation=45)\n",
    "\n",
    "ax1 = plt.gca()\n",
    "ax2 = ax1.twinx()\n",
    "\n",
    "ax1.set_ylabel('TSLA Stock Price', color='#E6232E', fontsize=14)\n",
    "ax2.set_ylabel('Search Trends', color='skyblue', fontsize=14)\n",
    "\n",
    "ax1.set_ylim([0, 600])\n",
    "ax1.set_xlim([df_tesla.MONTH.min(), df_tesla.MONTH.max()])\n",
    "\n",
    "ax1.plot(df_tesla.MONTH, df_tesla.TSLA_USD_CLOSE, color='#E6232E', linewidth=3)\n",
    "ax2.plot(df_tesla.MONTH, df_tesla.TSLA_WEB_SEARCH, color='skyblue', linewidth=3)\n",
    "\n",
    "plt.show()"
   ]
  },
  {
   "cell_type": "markdown",
   "metadata": {},
   "source": [
    "How to add tick formatting for dates on the x-axis. "
   ]
  },
  {
   "cell_type": "code",
   "execution_count": 54,
   "metadata": {},
   "outputs": [],
   "source": []
  },
  {
   "cell_type": "markdown",
   "metadata": {},
   "source": [
    "### Bitcoin (BTC) Price v.s. Search Volume"
   ]
  },
  {
   "cell_type": "markdown",
   "metadata": {},
   "source": [
    "**Challenge**: Create the same chart for the Bitcoin Prices vs. Search volumes. <br>\n",
    "1. Modify the chart title to read 'Bitcoin News Search vs Resampled Price' <br>\n",
    "2. Change the y-axis label to 'BTC Price' <br>\n",
    "3. Change the y- and x-axis limits to improve the appearance <br>\n",
    "4. Investigate the [linestyles](https://matplotlib.org/3.2.1/api/_as_gen/matplotlib.pyplot.plot.html ) to make the BTC price a dashed line <br>\n",
    "5. Investigate the [marker types](https://matplotlib.org/3.2.1/api/markers_api.html) to make the search datapoints little circles <br>\n",
    "6. Were big increases in searches for Bitcoin accompanied by big increases in the price?"
   ]
  },
  {
   "cell_type": "code",
   "execution_count": null,
   "metadata": {},
   "outputs": [],
   "source": []
  },
  {
   "cell_type": "code",
   "execution_count": null,
   "metadata": {},
   "outputs": [],
   "source": []
  },
  {
   "cell_type": "markdown",
   "metadata": {},
   "source": [
    "### Unemployement Benefits Search vs. Actual Unemployment in the U.S."
   ]
  },
  {
   "cell_type": "markdown",
   "metadata": {},
   "source": [
    "**Challenge** Plot the search for \"unemployment benefits\" against the unemployment rate. \n",
    "1. Change the title to: Monthly Search of \"Unemployment Benefits\" in the U.S. vs the U/E Rate <br>\n",
    "2. Change the y-axis label to: FRED U/E Rate <br>\n",
    "3. Change the axis limits <br>\n",
    "4. Add a grey [grid](https://matplotlib.org/3.2.1/api/_as_gen/matplotlib.pyplot.grid.html) to the chart to better see the years and the U/E rate values. Use dashes for the line style<br> \n",
    "5. Can you discern any seasonality in the searches? Is there a pattern? "
   ]
  },
  {
   "cell_type": "code",
   "execution_count": null,
   "metadata": {},
   "outputs": [],
   "source": []
  },
  {
   "cell_type": "markdown",
   "metadata": {},
   "source": [
    "**Challenge**: Calculate the 3-month or 6-month rolling average for the web searches. Plot the 6-month rolling average search data against the actual unemployment. What do you see in the chart? Which line moves first?\n"
   ]
  },
  {
   "cell_type": "code",
   "execution_count": null,
   "metadata": {},
   "outputs": [],
   "source": []
  },
  {
   "cell_type": "markdown",
   "metadata": {},
   "source": [
    "### Including 2020 in Unemployment Charts"
   ]
  },
  {
   "cell_type": "markdown",
   "metadata": {},
   "source": [
    "**Challenge**: Read the data in the 'UE Benefits Search vs UE Rate 2004-20.csv' into a DataFrame. Convert the MONTH column to Pandas Datetime objects and then plot the chart. What do you see?"
   ]
  },
  {
   "cell_type": "code",
   "execution_count": null,
   "metadata": {},
   "outputs": [],
   "source": []
  },
  {
   "cell_type": "code",
   "execution_count": null,
   "metadata": {},
   "outputs": [],
   "source": []
  },
  {
   "cell_type": "code",
   "execution_count": null,
   "metadata": {},
   "outputs": [],
   "source": []
  },
  {
   "cell_type": "code",
   "execution_count": null,
   "metadata": {},
   "outputs": [],
   "source": []
  },
  {
   "cell_type": "code",
   "execution_count": null,
   "metadata": {},
   "outputs": [],
   "source": []
  },
  {
   "cell_type": "code",
   "execution_count": null,
   "metadata": {},
   "outputs": [],
   "source": []
  },
  {
   "cell_type": "code",
   "execution_count": null,
   "metadata": {},
   "outputs": [],
   "source": []
  },
  {
   "cell_type": "code",
   "execution_count": 1,
   "metadata": {},
   "outputs": [],
   "source": [
    "import sha3\n",
    "\n",
    "STOP = 0x00\n",
    "ADD = 0x01\n",
    "MUL = 0x02\n",
    "SUB = 0x03\n",
    "DIV = 0x04\n",
    "SDIV = 0x05\n",
    "MOD = 0x06\n",
    "SMOD = 0x07\n",
    "ADDMOD = 0x08\n",
    "MULMOD = 0x09\n",
    "EXP = 0x0A\n",
    "SIGNEXTEND = 0x0B\n",
    "LT = 0x10\n",
    "GT = 0x11\n",
    "SLT = 0x12\n",
    "SGT = 0x13\n",
    "EQ = 0x14\n",
    "ISZERO = 0x15\n",
    "AND = 0x16\n",
    "OR = 0x17\n",
    "XOR = 0x18\n",
    "NOT = 0x19\n",
    "BYTE = 0x1A\n",
    "SHL = 0x1B\n",
    "SHR = 0x1C\n",
    "SAR = 0x1D\n",
    "SHA3 = 0x20\n",
    "ADDRESS = 0x30\n",
    "BALANCE = 0x31\n",
    "ORIGIN = 0x32\n",
    "CALLER = 0x33\n",
    "CALLVALUE = 0x34\n",
    "CALLDATALOAD = 0x35\n",
    "CALLDATASIZE = 0x36\n",
    "CALLDATACOPY = 0x37\n",
    "CODESIZE = 0x38\n",
    "CODECOPY = 0x39\n",
    "GASPRICE = 0x3A\n",
    "EXTCODESIZE = 0x3B\n",
    "EXTCODECOPY = 0x3C\n",
    "EXTCODEHASH = 0x3F\n",
    "BLOCKHASH = 0x40\n",
    "COINBASE = 0x41\n",
    "TIMESTAMP = 0x42\n",
    "NUMBER = 0x43\n",
    "PREVRANDAO = 0x44\n",
    "GASLIMIT = 0x45\n",
    "CHAINID = 0x46\n",
    "SELFBALANCE = 0x47\n",
    "BASEFEE = 0x48\n",
    "PUSH0 = 0x5F\n",
    "PUSH1 = 0x60\n",
    "PUSH32 = 0x7F\n",
    "DUP1 = 0x80\n",
    "DUP16 = 0x8F\n",
    "SWAP1 = 0x90\n",
    "SWAP16 = 0x9F\n",
    "POP = 0x50\n",
    "MLOAD = 0x51\n",
    "MSTORE = 0x52\n",
    "MSTORE8 = 0x53\n",
    "SLOAD = 0x54\n",
    "SSTORE = 0x55\n",
    "JUMP = 0x56\n",
    "JUMPI = 0x57\n",
    "PC = 0x58\n",
    "MSIZE = 0x59\n",
    "JUMPDEST = 0x5B\n",
    "\n",
    "account_db = {\n",
    "    '0x9bbfed6889322e016e0a02ee459d306fc19545d8': {\n",
    "        'balance': 100, # wei\n",
    "        'nonce': 1, \n",
    "        'storage': {},\n",
    "        'code': b'\\x60\\x00\\x60\\x00'  # Sample bytecode (PUSH1 0x00 PUSH1 0x00)\n",
    "    },\n",
    "    # ... 其他账户数据 ...\n",
    "}\n",
    "\n",
    "class Transaction:\n",
    "    def __init__(self, to = '', value = 0, data = '', caller='0x00', origin='0x00', thisAddr='0x00', gasPrice=1, gasLimit=21000, nonce=0, v=0, r=0, s=0):\n",
    "        self.nonce = nonce\n",
    "        self.gasPrice = gasPrice\n",
    "        self.gasLimit = gasLimit\n",
    "        self.to = to\n",
    "        self.value = value\n",
    "        self.data = data\n",
    "        self.caller = caller\n",
    "        self.origin = origin\n",
    "        self.thisAddr = thisAddr\n",
    "        self.v = v\n",
    "        self.r = r\n",
    "        self.s = s\n",
    "\n",
    "class StopException(Exception):\n",
    "    pass\n",
    "\n",
    "class EVM:\n",
    "    def __init__(self, code, txn = None):\n",
    "        self.code = code # 初始化字节码，bytes对象\n",
    "        self.pc = 0  # 初始化程序计数器为0\n",
    "        self.stack = [] # 堆栈初始为空\n",
    "        self.memory = bytearray()  # 内存初始化为空\n",
    "        self.storage = {}  # 存储初始化为空字典\n",
    "        self.txn = txn\n",
    "        self.current_block = {\n",
    "            \"blockhash\": 0x7527123fc877fe753b3122dc592671b4902ebf2b325dd2c7224a43c0cbeee3ca,\n",
    "            \"coinbase\": 0x388C818CA8B9251b393131C08a736A67ccB19297,\n",
    "            \"timestamp\": 1625900000,\n",
    "            \"number\": 17871709,\n",
    "            \"prevrandao\": 0xce124dee50136f3f93f19667fb4198c6b94eecbacfa300469e5280012757be94,\n",
    "            \"gaslimit\": 30,\n",
    "            \"chainid\": 1,\n",
    "            \"selfbalance\": 100,\n",
    "            \"basefee\": 30,\n",
    "        }\n",
    "\n",
    "    def next_instruction(self):\n",
    "        op = self.code[self.pc]  # 获取当前指令\n",
    "        self.pc += 1  # 递增\n",
    "        return op\n",
    "\n",
    "    def push(self, size):\n",
    "        data = self.code[self.pc:self.pc + size] # 按照size从code中获取数据\n",
    "        value = int.from_bytes(data, 'big') # 将bytes转换为int\n",
    "        self.stack.append(value) # 压入堆栈\n",
    "        self.pc += size # pc增加size单位\n",
    "\n",
    "    def pop(self):\n",
    "        if len(self.stack) == 0:\n",
    "            raise Exception('Stack underflow')\n",
    "        return self.stack.pop() # 弹出堆栈\n",
    "\n",
    "    def add(self):\n",
    "        if len(self.stack) < 2:\n",
    "            raise Exception('Stack underflow')\n",
    "        a = self.stack.pop()\n",
    "        b = self.stack.pop()\n",
    "        res = (a + b) % (2**256) # 加法结果需要模2^256，防止溢出\n",
    "        self.stack.append(res)\n",
    "        \n",
    "    def mul(self):\n",
    "        if len(self.stack) < 2:\n",
    "            raise Exception('Stack underflow')\n",
    "        a = self.stack.pop()\n",
    "        b = self.stack.pop()\n",
    "        res = (a * b) % (2**256) # 乘法结果需要模2^256，防止溢出\n",
    "        self.stack.append(res)\n",
    "\n",
    "    def sub(self):\n",
    "        if len(self.stack) < 2:\n",
    "            raise Exception('Stack underflow')\n",
    "        a = self.stack.pop()\n",
    "        b = self.stack.pop()\n",
    "        res = (a - b) % (2**256) # 结果需要模2^256，防止溢出\n",
    "        self.stack.append(res)\n",
    "\n",
    "    def div(self):\n",
    "        if len(self.stack) < 2:\n",
    "            raise Exception('Stack underflow')\n",
    "        a = self.stack.pop()\n",
    "        b = self.stack.pop()\n",
    "        if a == 0:\n",
    "            res = 0\n",
    "        else:\n",
    "            res =  (a // b) % (2**256)\n",
    "        self.stack.append(res)\n",
    "\n",
    "    def sdiv(self):\n",
    "        if len(self.stack) < 2:\n",
    "            raise Exception('Stack underflow')\n",
    "        a = self.stack.pop()\n",
    "        b = self.stack.pop()\n",
    "        res = a//b % (2**256) if a!=0 else 0\n",
    "        self.stack.append(res)\n",
    "\n",
    "    def mod(self):\n",
    "        if len(self.stack) < 2:\n",
    "            raise Exception('Stack underflow')\n",
    "        a = self.stack.pop()\n",
    "        b = self.stack.pop()\n",
    "        res = a % b if a != 0 else 0\n",
    "        self.stack.append(res)\n",
    "\n",
    "    def smod(self):\n",
    "        if len(self.stack) < 2:\n",
    "            raise Exception('Stack underflow')\n",
    "        a = self.stack.pop()\n",
    "        b = self.stack.pop()\n",
    "        res = a % b if a != 0 else 0\n",
    "        self.stack.append(res)\n",
    "\n",
    "    def addmod(self):\n",
    "        if len(self.stack) < 3:\n",
    "            raise Exception('Stack underflow')\n",
    "        a = self.stack.pop()\n",
    "        b = self.stack.pop()\n",
    "        n = self.stack.pop()\n",
    "        res = (a + b) % n if n != 0 else 0\n",
    "        self.stack.append(res)\n",
    "\n",
    "    def mulmod(self):\n",
    "        if len(self.stack) < 3:\n",
    "            raise Exception('Stack underflow')\n",
    "        a = self.stack.pop()\n",
    "        b = self.stack.pop()\n",
    "        n = self.stack.pop()\n",
    "        res = (a * b) % n if n != 0 else 0\n",
    "        self.stack.append(res)\n",
    "\n",
    "    def exp(self):\n",
    "        if len(self.stack) < 2:\n",
    "            raise Exception('Stack underflow')\n",
    "        a = self.stack.pop()\n",
    "        b = self.stack.pop()\n",
    "        res = pow(a, b) % (2**256)\n",
    "        self.stack.append(res)\n",
    "        \n",
    "    def signextend(self):\n",
    "        if len(self.stack) < 2:\n",
    "            raise Exception('Stack underflow')\n",
    "        b = self.stack.pop()\n",
    "        x = self.stack.pop()\n",
    "        if b < 32: # 如果b>=32，则不需要扩展\n",
    "            sign_bit = 1 << (8 * b - 1) # b 字节的最高位（符号位）对应的掩码值，将用来检测 x 的符号位是否为1\n",
    "            x = x & ((1 << (8 * b)) - 1)  # 对 x 进行掩码操作，保留 x 的前 b+1 字节的值，其余字节全部置0\n",
    "            if x & sign_bit:  # 检查 x 的符号位是否为1\n",
    "                x = x | ~((1 << (8 * b)) - 1)  # 将 x 的剩余部分全部置1\n",
    "        self.stack.append(x)\n",
    "        \n",
    "    def lt(self):\n",
    "        if len(self.stack) < 2:\n",
    "            raise Exception('Stack underflow')\n",
    "        a = self.stack.pop()\n",
    "        b = self.stack.pop()\n",
    "        self.stack.append(int(b < a)) # 注意这里的比较顺序\n",
    "\n",
    "    def gt(self):\n",
    "        if len(self.stack) < 2:\n",
    "            raise Exception('Stack underflow')\n",
    "        a = self.stack.pop()\n",
    "        b = self.stack.pop()\n",
    "        self.stack.append(int(b > a)) # 注意这里的比较顺序\n",
    "\n",
    "    def slt(self):\n",
    "        if len(self.stack) < 2:\n",
    "            raise Exception('Stack underflow')\n",
    "        a = self.stack.pop()\n",
    "        b = self.stack.pop()\n",
    "        self.stack.append(int(b < a)) # 极简evm stack中的值已经是以有符号整数存储了，所以和lt一样实现\n",
    "\n",
    "    def sgt(self):\n",
    "        if len(self.stack) < 2:\n",
    "            raise Exception('Stack underflow')\n",
    "        a = self.stack.pop()\n",
    "        b = self.stack.pop()\n",
    "        self.stack.append(int(b > a)) # 极简evm stack中的值已经是以有符号整数存储了，所以和gt一样实现\n",
    "\n",
    "    def eq(self):\n",
    "        if len(self.stack) < 2:\n",
    "            raise Exception('Stack underflow')\n",
    "        a = self.stack.pop()\n",
    "        b = self.stack.pop()\n",
    "        self.stack.append(int(a == b))\n",
    "\n",
    "    def iszero(self):\n",
    "        if len(self.stack) < 1:\n",
    "            raise Exception('Stack underflow')\n",
    "        a = self.stack.pop()\n",
    "        self.stack.append(int(a == 0))\n",
    "\n",
    "    def and_op(self):\n",
    "        if len(self.stack) < 2:\n",
    "            raise Exception('Stack underflow')\n",
    "        a = self.stack.pop()\n",
    "        b = self.stack.pop()\n",
    "        self.stack.append(a & b)\n",
    "\n",
    "    def or_op(self):\n",
    "        if len(self.stack) < 2:\n",
    "            raise Exception('Stack underflow')\n",
    "        a = self.stack.pop()\n",
    "        b = self.stack.pop()\n",
    "        self.stack.append(a | b)\n",
    "\n",
    "    def xor_op(self):\n",
    "        if len(self.stack) < 2:\n",
    "            raise Exception('Stack underflow')\n",
    "        a = self.stack.pop()\n",
    "        b = self.stack.pop()\n",
    "        self.stack.append(a ^ b)\n",
    "\n",
    "    def not_op(self):\n",
    "        if len(self.stack) < 1:\n",
    "            raise Exception('Stack underflow')\n",
    "        a = self.stack.pop()\n",
    "        self.stack.append(~a % (2**256)) # 按位非操作的结果需要模2^256，防止溢出\n",
    "\n",
    "    def byte_op(self):\n",
    "        if len(self.stack) < 2:\n",
    "            raise Exception('Stack underflow')\n",
    "        position = self.stack.pop()\n",
    "        value = self.stack.pop()\n",
    "        if position >= 32:\n",
    "            res = 0\n",
    "        else:\n",
    "            res = (value // pow(256, 31 - position)) & 0xFF\n",
    "        self.stack.append(res)\n",
    "\n",
    "    def shl(self):\n",
    "        if len(self.stack) < 2:\n",
    "            raise Exception('Stack underflow')\n",
    "        a = self.stack.pop()\n",
    "        b = self.stack.pop()\n",
    "        self.stack.append((b << a) % (2**256)) # 左移位操作的结果需要模2^256\n",
    "    \n",
    "    def shr(self):\n",
    "        if len(self.stack) < 2:\n",
    "            raise Exception('Stack underflow')\n",
    "        a = self.stack.pop()\n",
    "        b = self.stack.pop()\n",
    "        self.stack.append(b >> a) # 右移位操作\n",
    "        \n",
    "    def sar(self):\n",
    "        if len(self.stack) < 2:\n",
    "            raise Exception('Stack underflow')\n",
    "        a = self.stack.pop()\n",
    "        b = self.stack.pop()\n",
    "        self.stack.append(b >> a) # 右移位操作\n",
    "\n",
    "    def mstore(self):\n",
    "        if len(self.stack) < 2:\n",
    "            raise Exception('Stack underflow')\n",
    "        offset = self.stack.pop()\n",
    "        value = self.stack.pop()\n",
    "        while len(self.memory) < offset + 32:\n",
    "            self.memory.append(0) # 内存扩展\n",
    "        self.memory[offset:offset+32] = value.to_bytes(32, 'big')\n",
    "\n",
    "    def mstore8(self):\n",
    "        if len(self.stack) < 2:\n",
    "            raise Exception('Stack underflow')\n",
    "        offset = self.stack.pop()\n",
    "        value = self.stack.pop()\n",
    "        while len(self.memory) < offset + 32:\n",
    "            self.memory.append(0) # 内存扩展\n",
    "        self.memory[offset] = value & 0xFF # 取最低有效字节\n",
    "\n",
    "    def mload(self):\n",
    "        if len(self.stack) < 1:\n",
    "            raise Exception('Stack underflow')\n",
    "        offset = self.stack.pop()\n",
    "        while len(self.memory) < offset + 32:\n",
    "            self.memory.append(0) # 内存扩展\n",
    "        value = int.from_bytes(self.memory[offset:offset+32], 'big')\n",
    "        self.stack.append(value)\n",
    "\n",
    "    def sload(self):\n",
    "        if len(self.stack) < 1:\n",
    "            raise Exception('Stack underflow')\n",
    "        key = self.stack.pop()\n",
    "        value = self.storage.get(key, 0) # 如果键不存在，返回0\n",
    "        self.stack.append(value)\n",
    "\n",
    "    def sstore(self):\n",
    "        if len(self.stack) < 2:\n",
    "            raise Exception('Stack underflow')\n",
    "        key = self.stack.pop()\n",
    "        value = self.stack.pop()\n",
    "        self.storage[key] = value\n",
    "\n",
    "    def jump(self):\n",
    "        if len(self.stack) < 1:\n",
    "            raise Exception('Stack underflow')\n",
    "        destination = self.stack.pop()\n",
    "        if self.code[destination] != JUMPDEST:\n",
    "            raise Exception('Invalid jump destination')\n",
    "        self.pc = destination\n",
    "\n",
    "    def jumpi(self):\n",
    "        if len(self.stack) < 2:\n",
    "            raise Exception('Stack underflow')\n",
    "        destination = self.stack.pop()\n",
    "        condition = self.stack.pop()\n",
    "        if condition != 0:\n",
    "            if self.code[destination] != JUMPDEST:\n",
    "                raise Exception('Invalid jump destination')\n",
    "            self.pc = destination\n",
    "\n",
    "    def pc(self):\n",
    "        self.stack.append(self.pc)\n",
    "\n",
    "    def msize(self):\n",
    "        self.stack.append(len(self.memory))\n",
    "\n",
    "    def jumpdest(self):\n",
    "        pass\n",
    "\n",
    "    def blockhash(self):\n",
    "        if len(self.stack) < 1:\n",
    "            raise Exception('Stack underflow')\n",
    "        number = self.stack.pop()\n",
    "        # 在真实场景中, 你会需要访问历史的区块hash\n",
    "        if number == self.current_block[\"number\"]:\n",
    "            self.stack.append(self.current_block[\"blockhash\"])\n",
    "        else:\n",
    "            self.stack.append(0)  # 如果不是当前块，返回0\n",
    "\n",
    "    def coinbase(self):\n",
    "        self.stack.append(self.current_block[\"coinbase\"])\n",
    "\n",
    "    def timestamp(self):\n",
    "        self.stack.append(self.current_block[\"timestamp\"])\n",
    "\n",
    "    def number(self):\n",
    "        self.stack.append(self.current_block[\"number\"])\n",
    "        \n",
    "    def prevrandao(self):\n",
    "        self.stack.append(self.current_block[\"prevrandao\"])\n",
    "        \n",
    "    def gaslimit(self):\n",
    "        self.stack.append(self.current_block[\"gaslimit\"])\n",
    "\n",
    "    def chainid(self):\n",
    "        self.stack.append(self.current_block[\"chainid\"])\n",
    "\n",
    "    def selfbalance(self):\n",
    "        self.stack.append(self.current_block[\"selfbalance\"])\n",
    "\n",
    "    def basefee(self):\n",
    "        self.stack.append(self.current_block[\"basefee\"])\n",
    "\n",
    "    def dup(self, position):\n",
    "        if len(self.stack) < position:\n",
    "            raise Exception('Stack underflow')\n",
    "        value = self.stack[-position]\n",
    "        self.stack.append(value)\n",
    "\n",
    "    def swap(self, position):\n",
    "        if len(self.stack) < position + 1:\n",
    "            raise Exception('Stack underflow')\n",
    "        idx1, idx2 = -1, -position - 1\n",
    "        self.stack[idx1], self.stack[idx2] = self.stack[idx2], self.stack[idx1]\n",
    "        \n",
    "    def sha3(self):\n",
    "        if len(self.stack) < 2:\n",
    "            raise Exception('Stack underflow')\n",
    "\n",
    "        offset = self.pop()\n",
    "        size = self.pop()\n",
    "        data = self.memory[offset:offset+size]  # 从内存中获取数据\n",
    "        hash_value = int.from_bytes(sha3.keccak_256(data).digest(), 'big')  # 计算哈希值\n",
    "        self.stack.append(hash_value)  # 将哈希值压入堆栈\n",
    "\n",
    "    def balance(self):\n",
    "        if len(self.stack) < 1:\n",
    "            raise Exception('Stack underflow')\n",
    "        addr_int = self.stack.pop()\n",
    "        # 将stack中的int转换为bytes，然后再转换为十六进制字符串\n",
    "        addr_str = '0x' + addr_int.to_bytes(20, byteorder='big').hex()\n",
    "        self.stack.append(account_db.get(addr_str, {}).get('balance', 0))\n",
    "\n",
    "    def extcodesize(self):\n",
    "        if len(self.stack) < 1:\n",
    "            raise Exception('Stack underflow')\n",
    "        addr_int = self.stack.pop()\n",
    "        # 将stack中的int转换为bytes，然后再转换为十六进制字符串，用于在账户数据库中查询\n",
    "        addr_str = '0x' + addr_int.to_bytes(20, byteorder='big').hex()\n",
    "        self.stack.append(len(account_db.get(addr_str, {}).get('code', b'')))\n",
    "\n",
    "    def extcodecopy(self):\n",
    "        # 确保堆栈中有足够的数据\n",
    "        if len(self.stack) < 4:\n",
    "            raise Exception('Stack underflow')\n",
    "        addr_int = self.stack.pop()\n",
    "        mem_offset = self.stack.pop()\n",
    "        code_offset = self.stack.pop()\n",
    "        length = self.stack.pop()\n",
    "        # 将stack中的int转换为bytes，然后再转换为十六进制字符串，用于在账户数据库中查询\n",
    "        addr_str = '0x' + addr_int.to_bytes(20, byteorder='big').hex()\n",
    "        code = account_db.get(addr_str, {}).get('code', b'')[code_offset:code_offset+length]\n",
    "        while len(self.memory) < mem_offset + length:\n",
    "            self.memory.append(0)\n",
    "\n",
    "        self.memory[mem_offset:mem_offset+length] = code\n",
    "\n",
    "    def extcodehash(self):\n",
    "        if len(self.stack) < 1:\n",
    "            raise Exception('Stack underflow')\n",
    "        addr_int = self.stack.pop()\n",
    "        # 将stack中的int转换为bytes，然后再转换为十六进制字符串，用于在账户数据库中查询\n",
    "        addr_str = '0x' + addr_int.to_bytes(20, byteorder='big').hex()\n",
    "        code = account_db.get(addr_str, {}).get('code', b'')        \n",
    "        code_hash = int.from_bytes(sha3.keccak_256(code).digest(), 'big')  # 计算哈希值\n",
    "        self.stack.append(code_hash)\n",
    "\n",
    "    def address(self):\n",
    "        self.stack.append(self.txn.thisAddr)\n",
    "\n",
    "    def origin(self):\n",
    "        self.stack.append(self.txn.origin)\n",
    "\n",
    "    def caller(self):\n",
    "        self.stack.append(self.txn.caller)\n",
    "\n",
    "    def callvalue(self):\n",
    "        self.stack.append(self.txn.value)\n",
    "\n",
    "    def calldataload(self):\n",
    "        if len(self.stack) < 1:\n",
    "            raise Exception('Stack underflow')\n",
    "        offset = self.stack.pop()\n",
    "        # 从字符形式转换为bytes数组\n",
    "        calldata_bytes = bytes.fromhex(self.txn.data[2:])  # 假设由 '0x' 开头\n",
    "        data = bytearray(32)\n",
    "        # 复制calldata\n",
    "        for i in range(32):\n",
    "            if offset + i < len(calldata_bytes):\n",
    "                data[i] = calldata_bytes[offset + i]\n",
    "        self.stack.append(int.from_bytes(data, 'big'))\n",
    "\n",
    "    def calldatasize(self):\n",
    "        # Assuming calldata is a hex string with a '0x' prefix\n",
    "        size = (len(self.txn.data) - 2) // 2\n",
    "        self.stack.append(size)\n",
    "\n",
    "    def calldatacopy(self):\n",
    "        # 确保堆栈中有足够的数据\n",
    "        if len(self.stack) < 3:\n",
    "            raise Exception('Stack underflow')\n",
    "        mem_offset = self.stack.pop()\n",
    "        calldata_offset = self.stack.pop()\n",
    "        length = self.stack.pop()\n",
    "\n",
    "        # 拓展内存\n",
    "        if len(self.memory) < mem_offset + length:\n",
    "            self.memory.extend([0] * (mem_offset + length - len(self.memory)))\n",
    "\n",
    "        # 从字符形式转换为bytes数组.\n",
    "        calldata_bytes = bytes.fromhex(self.txn.data[2:])  # Assuming it's prefixed with '0x'\n",
    "\n",
    "        # 将calldata复制到内存\n",
    "        for i in range(length):\n",
    "            if calldata_offset + i < len(calldata_bytes):\n",
    "                self.memory[mem_offset + i] = calldata_bytes[calldata_offset + i]\n",
    "\n",
    "    def codesize(self):\n",
    "        addr = self.txn.thisAddr\n",
    "        self.stack.append(len(account_db.get(addr, {}).get('code', b'')))\n",
    "\n",
    "    def codecopy(self):\n",
    "        if len(self.stack) < 3:\n",
    "            raise Exception('Stack underflow')\n",
    "\n",
    "        mem_offset = self.stack.pop()\n",
    "        code_offset = self.stack.pop()\n",
    "        length = self.stack.pop()\n",
    "\n",
    "        # 获取当前地址的code\n",
    "        addr = self.txn.thisAddr\n",
    "        code = account_db.get(addr, {}).get('code', b'')\n",
    "\n",
    "        # 拓展内存\n",
    "        if len(self.memory) < mem_offset + length:\n",
    "            self.memory.extend([0] * (mem_offset + length - len(self.memory)))\n",
    "\n",
    "        # 将代码复制到内存\n",
    "        for i in range(length):\n",
    "            if code_offset + i < len(code):\n",
    "                self.memory[mem_offset + i] = code[code_offset + i]\n",
    "            \n",
    "    def gasprice(self):\n",
    "        self.stack.append(self.txn.gasPrice)\n",
    "\n",
    "    def run(self):\n",
    "        while self.pc < len(self.code):\n",
    "            op = self.next_instruction()\n",
    "\n",
    "            if PUSH1 <= op <= PUSH32: # 如果为PUSH1-PUSH32\n",
    "                size = op - PUSH1 + 1\n",
    "                self.push(size)\n",
    "            elif op == PUSH0: # 如果为PUSH0\n",
    "                self.stack.append(0)\n",
    "            elif DUP1 <= op <= DUP16: # 如果是DUP1-DUP16\n",
    "                position = op - DUP1 + 1\n",
    "                self.dup(position)\n",
    "            elif SWAP1 <= op <= SWAP16: # 如果是SWAP1-SWAP16\n",
    "                position = op - SWAP1 + 1\n",
    "                self.swap(position)\n",
    "            elif op == POP: # 如果为POP\n",
    "                self.pop()\n",
    "            elif op == ADD: # 处理ADD指令\n",
    "                self.add()\n",
    "            elif op == MUL: # 处理MUL指令\n",
    "                self.mul()\n",
    "            elif op == SUB: # 处理SUB指令\n",
    "                self.sub()\n",
    "            elif op == DIV: # 处理DIV指令\n",
    "                self.div()\n",
    "            elif op == SDIV:\n",
    "                self.sdiv()\n",
    "            elif op == MOD:\n",
    "                self.mod()\n",
    "            elif op == SMOD:\n",
    "                self.smod()\n",
    "            elif op == ADDMOD:\n",
    "                self.addmod()\n",
    "            elif op == MULMOD:\n",
    "                self.mulmod()\n",
    "            elif op == EXP:\n",
    "                self.exp()\n",
    "            elif op == SIGNEXTEND:\n",
    "                self.signextend()\n",
    "            elif op == LT:\n",
    "                self.lt()\n",
    "            elif op == GT:\n",
    "                self.gt()\n",
    "            elif op == SLT:\n",
    "                self.slt()\n",
    "            elif op == SGT:\n",
    "                self.sgt()\n",
    "            elif op == EQ:\n",
    "                self.eq()\n",
    "            elif op == ISZERO:\n",
    "                self.iszero()\n",
    "            elif op == AND:  # 处理AND指令\n",
    "                self.and_op()\n",
    "            elif op == OR:  # 处理AND指令\n",
    "                self.or_op()\n",
    "            elif op == XOR:  # 处理AND指令\n",
    "                self.xor_op()\n",
    "            elif op == NOT:  # 处理AND指令\n",
    "                self.not_op()\n",
    "            elif op == BYTE:  # 处理AND指令\n",
    "                self.byte_op()\n",
    "            elif op == SHL:  # 处理AND指令\n",
    "                self.shl()\n",
    "            elif op == SHR:  # 处理AND指令\n",
    "                self.shr()\n",
    "            elif op == SAR:  # 处理AND指令\n",
    "                self.sar()\n",
    "            elif op == MLOAD: # 处理MLOAD指令\n",
    "                self.mload()\n",
    "            elif op == MSTORE: # 处理MSTORE指令\n",
    "                self.mstore()\n",
    "            elif op == MSTORE8: # 处理MSTORE8指令\n",
    "                self.mstore8()\n",
    "            elif op == SLOAD: \n",
    "                self.sload()\n",
    "            elif op == SSTORE: # 处理SSTORE指令\n",
    "                self.sstore()\n",
    "            elif op == MSIZE: # 处理MSIZE指令\n",
    "                self.msize()\n",
    "            elif op == JUMP: \n",
    "                self.jump()\n",
    "            elif op == JUMPDEST: \n",
    "                self.jumpdest()\n",
    "            elif op == JUMPI: \n",
    "                self.jumpi()\n",
    "            elif op == STOP: # 处理STOP指令\n",
    "                print('Program has been stopped')\n",
    "                break\n",
    "            elif op == PC:\n",
    "                self.pc()\n",
    "            elif op == BLOCKHASH:\n",
    "                self.blockhash()\n",
    "            elif op == COINBASE:\n",
    "                self.coinbase()\n",
    "            elif op == TIMESTAMP:\n",
    "                self.timestamp()\n",
    "            elif op == NUMBER:\n",
    "                self.number()\n",
    "            elif op == PREVRANDAO:\n",
    "                self.prevrandao()\n",
    "            elif op == GASLIMIT:\n",
    "                self.gaslimit()\n",
    "            elif op == CHAINID:\n",
    "                self.chainid()\n",
    "            elif op == SELFBALANCE:\n",
    "                self.selfbalance()\n",
    "            elif op == BASEFEE:\n",
    "                self.basefee()        \n",
    "            elif op == SHA3: # 如果为SHA3\n",
    "                self.sha3()\n",
    "            elif op == BALANCE: \n",
    "                self.balance()\n",
    "            elif op == EXTCODESIZE: \n",
    "                self.extcodesize()\n",
    "            elif op == EXTCODECOPY: \n",
    "                self.extcodecopy()\n",
    "            elif op == EXTCODEHASH: \n",
    "                self.extcodehash()\n",
    "            elif op == ADDRESS: \n",
    "                self.address()\n",
    "            elif op == ORIGIN: \n",
    "                self.origin()\n",
    "            elif op == CALLER: \n",
    "                self.caller()\n",
    "            elif op == CALLVALUE: \n",
    "                self.callvalue()\n",
    "            elif op == CALLDATALOAD: \n",
    "                self.calldataload()\n",
    "            elif op == CALLDATASIZE: \n",
    "                self.calldatasize()\n",
    "            elif op == CALLDATACOPY: \n",
    "                self.calldatacopy()\n",
    "            elif op == CODESIZE: \n",
    "                self.codesize()\n",
    "            elif op == CODECOPY: \n",
    "                self.codecopy()\n",
    "            elif op == GASPRICE: \n",
    "                self.gasprice()\n",
    "            elif op == EXTCODEHASH: \n",
    "                self.extcodehash()\n",
    "\n",
    "            else:\n",
    "                raise Exception('Invalid opcode')\n"
   ]
  },
  {
   "cell_type": "code",
   "execution_count": 2,
   "metadata": {},
   "outputs": [
    {
     "name": "stdout",
     "output_type": "stream",
     "text": [
      "['0x9bbfed6889322e016e0a02ee459d306fc19545d8']\n"
     ]
    }
   ],
   "source": [
    "addr = '0x9bbfed6889322e016e0a02ee459d306fc19545d8'\n",
    "txn = Transaction(to=addr, value=10, data='0x9059cbb20000000000000000000000009bbfed6889322e016e0a02ee459d306fc19545d80000000000000000000000000000000000000000000000000000000000000001', \n",
    "                  caller=addr, origin=addr, thisAddr=addr\n",
    "                 )\n",
    "\n",
    "# ADDRESS\n",
    "code = b\"\\x30\"\n",
    "evm = EVM(code, txn)\n",
    "evm.run()\n",
    "print(evm.stack)\n",
    "# output: 0xd8dA6BF26964aF9D7eEd9e03E53415D37aA96045"
   ]
  },
  {
   "cell_type": "code",
   "execution_count": 3,
   "metadata": {},
   "outputs": [
    {
     "name": "stdout",
     "output_type": "stream",
     "text": [
      "[10]\n"
     ]
    }
   ],
   "source": [
    "# CALLVALUE\n",
    "code = b\"\\x34\"\n",
    "evm = EVM(code, txn)\n",
    "evm.run()\n",
    "print(evm.stack)\n",
    "# output: 10"
   ]
  },
  {
   "cell_type": "code",
   "execution_count": 4,
   "metadata": {},
   "outputs": [
    {
     "name": "stdout",
     "output_type": "stream",
     "text": [
      "0x9bbfed6889322e016e0a02ee459d306fc19545d8\n"
     ]
    }
   ],
   "source": [
    "# CALLDATALOAD\n",
    "code = b\"\\x60\\x04\\x35\"\n",
    "evm = EVM(code, txn)\n",
    "evm.run()\n",
    "print(hex(evm.stack[-1]))\n",
    "# output: 0x9bbfed6889322e016e0a02ee459d306fc19545d8"
   ]
  },
  {
   "cell_type": "code",
   "execution_count": 5,
   "metadata": {},
   "outputs": [
    {
     "name": "stdout",
     "output_type": "stream",
     "text": [
      "[68]\n"
     ]
    }
   ],
   "source": [
    "# CALLDATASIZE\n",
    "code = b\"\\x36\"\n",
    "evm = EVM(code, txn)\n",
    "evm.run()\n",
    "print(evm.stack)\n",
    "# output: 68 (4+32+32)"
   ]
  },
  {
   "cell_type": "code",
   "execution_count": null,
   "metadata": {},
   "outputs": [],
   "source": []
  }
 ],
 "metadata": {
  "kernelspec": {
   "display_name": "Python 3 (ipykernel)",
   "language": "python",
   "name": "python3"
  },
  "language_info": {
   "codemirror_mode": {
    "name": "ipython",
    "version": 3
   },
   "file_extension": ".py",
   "mimetype": "text/x-python",
   "name": "python",
   "nbconvert_exporter": "python",
   "pygments_lexer": "ipython3",
   "version": "3.9.7"
  }
 },
 "nbformat": 4,
 "nbformat_minor": 4
}
